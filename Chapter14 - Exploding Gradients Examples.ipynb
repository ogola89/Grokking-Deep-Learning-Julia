{
 "cells": [
  {
   "cell_type": "code",
   "execution_count": 1,
   "metadata": {},
   "outputs": [
    {
     "name": "stdout",
     "output_type": "stream",
     "text": [
      "Activations\n",
      "[0.9394063764232139 0.9685296813844158]\n",
      "[0.9919462020751835 0.9912173459720557]\n",
      "[0.9930138541072576 0.9930290067336093]\n",
      "[0.9930712974016631 0.9930709846128204]\n",
      "[0.9930728478272554 0.9930728542824323]\n",
      "[0.9930729099396909 0.9930729098064734]\n",
      "[0.9930729118947916 0.9930729118975409]\n",
      "[0.9930729119657797 0.9930729119657228]\n",
      "[0.9930729119681441 0.9930729119681454]\n",
      "[0.9930729119682271 0.9930729119682271]\n",
      "Gradients\n",
      "[0.03439551741586478 0.03439551741586478]\n",
      "[0.0011830516183189608 0.0011830516183190965]\n",
      "[4.069167255630265e-5 4.0691672556100514e-5]\n",
      "[1.3996111463781931e-6 1.3996111467133291e-6]\n",
      "[4.814036430452751e-8 4.8140363746002814e-8]\n",
      "[1.6558267226318103e-9 1.6558276535062039e-9]\n",
      "[5.696826748386598e-11 5.696671602718076e-11]\n",
      "[1.9725934639779772e-12 1.9751791957978857e-12]\n",
      "[8.453875971037249e-14 8.023063810106945e-14]\n",
      "[1.4593817745500397e-14 2.1693898263674604e-14]\n"
     ]
    }
   ],
   "source": [
    "σ(x) = 1/(1+exp(-x))\n",
    "relu(x) = x > 0 ? x : 0\n",
    "weights = [1 4;4 1]\n",
    "activation = σ.([1 0.01])\n",
    "\n",
    "println(\"Activations\")\n",
    "activations = []\n",
    "for iter=1:10\n",
    "    activation = σ.(activation * weights)\n",
    "    push!(activations, activation)\n",
    "    println(activation)\n",
    "end\n",
    "\n",
    "println(\"Gradients\")\n",
    "gradient = ones(size(activation))\n",
    "for activation in reverse(activations)\n",
    "    gradient = (activation .* (1 .- activation) .* gradient)\n",
    "    gradient = gradient * weights'\n",
    "    println(gradient)\n",
    "end"
   ]
  },
  {
   "cell_type": "code",
   "execution_count": 2,
   "metadata": {},
   "outputs": [
    {
     "name": "stdout",
     "output_type": "stream",
     "text": [
      "Activations\n",
      "[4.965364559841135 4.965364559841135]\n",
      "[24.826822799205676 24.826822799205676]\n",
      "[124.13411399602838 124.13411399602838]\n",
      "[620.6705699801419 620.6705699801419]\n",
      "[3103.3528499007093 3103.3528499007093]\n",
      "[15516.764249503547 15516.764249503547]\n",
      "[77583.82124751774 77583.82124751774]\n",
      "[387919.1062375887 387919.1062375887]\n",
      "[1.9395955311879434e6 1.9395955311879434e6]\n",
      "[9.697977655939717e6 9.697977655939717e6]\n",
      "Gradients\n",
      "[5.0 5.0]\n",
      "[25.0 25.0]\n",
      "[125.0 125.0]\n",
      "[625.0 625.0]\n",
      "[3125.0 3125.0]\n",
      "[15625.0 15625.0]\n",
      "[78125.0 78125.0]\n",
      "[390625.0 390625.0]\n",
      "[1.953125e6 1.953125e6]\n",
      "[9.765625e6 9.765625e6]\n"
     ]
    }
   ],
   "source": [
    "println(\"Activations\")\n",
    "activations = []\n",
    "for iter=1:10\n",
    "    activation = relu.(activation * weights)\n",
    "    push!(activations, activation)\n",
    "    println(activation)\n",
    "end\n",
    "\n",
    "println(\"Gradients\")\n",
    "gradient = ones(size(activation))\n",
    "for activation in reverse(activations)\n",
    "    gradient = (activation .> 0) .* gradient\n",
    "    gradient = gradient * weights'\n",
    "    println(gradient)\n",
    "end"
   ]
  },
  {
   "cell_type": "code",
   "execution_count": null,
   "metadata": {},
   "outputs": [],
   "source": []
  }
 ],
 "metadata": {
  "kernelspec": {
   "display_name": "Julia nodeps 1.4.0",
   "language": "julia",
   "name": "julia-nodeps-1.4"
  },
  "language_info": {
   "file_extension": ".jl",
   "mimetype": "application/julia",
   "name": "julia",
   "version": "1.4.0"
  }
 },
 "nbformat": 4,
 "nbformat_minor": 2
}
